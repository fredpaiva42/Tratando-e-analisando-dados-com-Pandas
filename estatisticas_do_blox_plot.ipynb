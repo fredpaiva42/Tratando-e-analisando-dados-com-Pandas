{
 "cells": [
  {
   "cell_type": "code",
   "execution_count": 1,
   "metadata": {},
   "outputs": [],
   "source": [
    "%matplotlib inline\n",
    "import pandas as pd\n",
    "import matplotlib.pyplot as plt\n",
    "plt.rc('figure', figsize = (14,6))"
   ]
  },
  {
   "cell_type": "code",
   "execution_count": 4,
   "metadata": {},
   "outputs": [],
   "source": [
    "dados = pd.read_csv('aluguel_amostra.csv', sep=\";\")"
   ]
  },
  {
   "cell_type": "code",
   "execution_count": 5,
   "metadata": {},
   "outputs": [],
   "source": [
    "valor_m2 = dados['Valor m2']"
   ]
  },
  {
   "cell_type": "code",
   "execution_count": 9,
   "metadata": {},
   "outputs": [],
   "source": [
    "Q1 = valor_m2.quantile(.25).round(2)\n",
    "Q3 = valor_m2.quantile(.75).round(2)\n",
    "IIQ = (Q3 - Q1).round(2)\n",
    "limite_inferior = Q1 - 1.5 * IIQ\n",
    "limite_superior = Q3 + 1.5 * IIQ"
   ]
  },
  {
   "cell_type": "code",
   "execution_count": 10,
   "metadata": {},
   "outputs": [
    {
     "name": "stdout",
     "output_type": "stream",
     "text": [
      "[Q1] -> 21.25\n",
      "[Q3] -> 42.31\n",
      "[IIQ] -> 21.06\n",
      "[limite inferior] -> -10.34\n",
      "[limite superior] -> 73.9\n"
     ]
    }
   ],
   "source": [
    "print('[Q1] -> {}'.format(Q1))\n",
    "print('[Q3] -> {}'.format(Q3))\n",
    "print('[IIQ] -> {}'.format(IIQ))\n",
    "print('[limite inferior] -> {}'.format(limite_inferior.round(2)))\n",
    "print('[limite superior] -> {}'.format(limite_superior.round(2)))"
   ]
  }
 ],
 "metadata": {
  "kernelspec": {
   "display_name": "Python 3.10.2 64-bit",
   "language": "python",
   "name": "python3"
  },
  "language_info": {
   "codemirror_mode": {
    "name": "ipython",
    "version": 3
   },
   "file_extension": ".py",
   "mimetype": "text/x-python",
   "name": "python",
   "nbconvert_exporter": "python",
   "pygments_lexer": "ipython3",
   "version": "3.10.2"
  },
  "orig_nbformat": 4,
  "vscode": {
   "interpreter": {
    "hash": "3a6c9faea0264ce879cd46e3a11be9eeb158c30e3628e3fcbf09743773dec4a6"
   }
  }
 },
 "nbformat": 4,
 "nbformat_minor": 2
}
